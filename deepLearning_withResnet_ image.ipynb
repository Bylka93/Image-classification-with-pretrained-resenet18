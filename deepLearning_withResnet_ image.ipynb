{
 "cells": [
  {
   "cell_type": "markdown",
   "metadata": {
    "colab_type": "text",
    "id": "lHi9PCpdw5mS"
   },
   "source": [
    "#  Deep Learning Project: Mini Image classification Competition with CNN"
   ]
  },
  {
   "cell_type": "markdown",
   "metadata": {
    "colab_type": "text",
    "id": "qGfZOYAbw5mX"
   },
   "source": [
    "\n",
    "### Environment\n",
    "Python 3, Numpy, matplotlib, torch, torchvision...\n",
    "\n",
    "### Dataset\n",
    "We download 45,000 images and corresponding labels. <br>\n",
    "W"
   ]
  },
  {
   "cell_type": "markdown",
   "metadata": {
    "colab_type": "text",
    "id": "ddyeOoI9w5ma"
   },
   "source": [
    "#### Download the given dataset"
   ]
  },
  {
   "cell_type": "code",
   "execution_count": 14,
   "metadata": {
    "colab": {
     "base_uri": "https://localhost:8080/",
     "height": 34
    },
    "colab_type": "code",
    "id": "OJu3n9fBw5mb",
    "outputId": "d3495430-fbcb-4049-997e-6795abefc9bb"
   },
   "outputs": [
    {
     "name": "stdout",
     "output_type": "stream",
     "text": [
      "Data was already downloaded and extracted!\n"
     ]
    }
   ],
   "source": [
    "# import necessary packages\n",
    "import os, time\n",
    "import torch \n",
    "#!pip install requests\n",
    "import requests, zipfile, sys\n",
    "import numpy as np\n",
    "import matplotlib.pyplot as plt \n",
    "from torch.utils.data import Dataset, DataLoader\n",
    "from utils import download_given_data, get_preds_figure\n",
    "import torchvision\n",
    "from PIL import Image\n",
    "import torch\n",
    "import torch.nn as nn\n",
    "import torch.nn.functional as F\n",
    "import torch.optim as optim\n",
    "from torchvision import transforms, utils\n",
    "import random, matplotlib\n",
    "#!pip install pandas\n",
    "import pandas as pd\n",
    "#!pip install tb-nightly\n",
    "from torchvision.models.resnet import BasicBlock\n",
    "from torch.utils.tensorboard import SummaryWriter\n",
    "\n",
    "download_given_data('./')"
   ]
  },
  {
   "cell_type": "code",
   "execution_count": 15,
   "metadata": {
    "colab": {},
    "colab_type": "code",
    "id": "sDe8uHOK30bg"
   },
   "outputs": [],
   "source": [
    "class FashionMNISTDataset(Dataset):\n",
    "\n",
    "    def __init__(self, csv_file, transform=None):\n",
    "        # Read the csv file\n",
    "        self.frame = pd.read_csv(csv_file, header=None)\n",
    "        self.transform = transform\n",
    "        \n",
    "        self.label_names = ['T-shirt/top', 'Trouser', 'Pullover', 'Dress', 'Coat', \n",
    "               'Sandal', 'Shirt', 'Sneaker', 'Bag', 'Ankle boot']\n",
    "\n",
    "    def __getitem__(self, idx):\n",
    "        image_name = self.frame.iloc[idx, 0]\n",
    "        image = Image.open(image_name)\n",
    "        \n",
    "        label = self.frame.iloc[idx, 1]\n",
    "\n",
    "        if self.transform:\n",
    "            image = self.transform(image)\n",
    "            \n",
    "        sample = {'image': image, 'label': label}\n",
    "\n",
    "        return sample\n",
    "\n",
    "    def __len__(self):\n",
    "        return len(self.frame)"
   ]
  },
  {
   "cell_type": "markdown",
   "metadata": {
    "colab_type": "text",
    "id": "qmW31DuO3F0S"
   },
   "source": [
    "Build our custom data augmentation"
   ]
  },
  {
   "cell_type": "code",
   "execution_count": 16,
   "metadata": {
    "colab": {},
    "colab_type": "code",
    "id": "mAXGSAJd1jgw"
   },
   "outputs": [],
   "source": [
    "class RandomWindowDrop(object):\n",
    "    def __init__(self, window_size):\n",
    "        assert isinstance(window_size, (int, tuple))\n",
    "        if isinstance(window_size, int):\n",
    "            self.window_size = (window_size, window_size)\n",
    "        else:\n",
    "            assert len(window_size) == 2\n",
    "            self.window_size = window_size\n",
    "        \n",
    "        # Define a horizontalFlip\n",
    "        self.trans = transforms.RandomHorizontalFlip(p=1.0)\n",
    "\n",
    "    def __call__(self, sample):\n",
    "        image = sample\n",
    "\n",
    "        # Perform either RandomWindowDrop or RandomHorizontalFlip\n",
    "        if random.random() < 0.5:\n",
    "            h, w = image.size\n",
    "            imagePixels = image.load()\n",
    "            top = np.random.randint(self.window_size[0], h - self.window_size[0])\n",
    "            left = np.random.randint(self.window_size[1], w - self.window_size[1])\n",
    "            for i in range(top, top+self.window_size[0], 1):\n",
    "                for j in range(left, left+self.window_size[1], 1):   \n",
    "                    imagePixels[i, j] = 0\n",
    "        else:\n",
    "            image = self.trans(image)\n",
    "\n",
    "        return image"
   ]
  },
  {
   "cell_type": "markdown",
   "metadata": {
    "colab_type": "text",
    "id": "I5Zf7MIA3Tyx"
   },
   "source": [
    " Load the training/validation/testing data to Dataloader"
   ]
  },
  {
   "cell_type": "code",
   "execution_count": 17,
   "metadata": {
    "colab": {},
    "colab_type": "code",
    "id": "ZgtnZ8u81jjg"
   },
   "outputs": [],
   "source": [
    "def getTrainingData(csv_file='', batch_size=64, num_workers=0):\n",
    "    __normalize_stats = {'mean': [0.5], 'std': [0.5]}\n",
    "\n",
    "    # transforms.Compose create a list of transformations\n",
    "    transformed_training = FashionMNISTDataset(csv_file=csv_file,\n",
    "                                        transform=transforms.Compose([\n",
    "                                            transforms.Resize(224),                          \n",
    "                                            transforms.RandomHorizontalFlip(),                          \n",
    "                                            transforms.ToTensor(),\n",
    "                                            transforms.Normalize(__normalize_stats['mean'],\n",
    "                                                      __normalize_stats['std'])\n",
    "                                        ]))\n",
    "\n",
    "    dataloader_training = DataLoader(transformed_training, batch_size, shuffle=True, num_workers=num_workers)\n",
    "\n",
    "    return dataloader_training\n",
    "\n",
    "\n",
    "def getEvalData(csv_file='', batch_size=64, num_workers=0):\n",
    "    __normalize_stats = {'mean': [0.5], 'std': [0.5]}\n",
    "    # TODO: Part 1.4 (1 point)\n",
    "    transformed_eval = FashionMNISTDataset(csv_file=csv_file,\n",
    "                                        transform=transforms.Compose([\n",
    "                                        transforms.Resize(224),                          \n",
    "                                        transforms.ToTensor(),\n",
    "                                        transforms.Normalize(__normalize_stats['mean'],\n",
    "                                                      __normalize_stats['std'])\n",
    "                                        ]))\n",
    "    \n",
    "    # DataLoader shuffle=False\n",
    "    dataloader_eval = DataLoader(transformed_eval, batch_size, shuffle=False, num_workers=num_workers)\n",
    "\n",
    "    return dataloader_eval\n",
    "    \n",
    "def getTestData(csv_file='', batch_size=64, num_workers=0):\n",
    "    __normalize_stats = {'mean': [0.5], 'std': [0.5]}\n",
    "    # TODO: Part 1.4 (1 point)\n",
    "    transformed_test = FashionMNISTDataset(csv_file=csv_file,\n",
    "                                        transform=transforms.Compose([\n",
    "                                            transforms.Resize(224),                          \n",
    "                                            transforms.ToTensor(),\n",
    "                                            transforms.Normalize(__normalize_stats['mean'],\n",
    "                                                      __normalize_stats['std'])\n",
    "                                        ]))\n",
    "    \n",
    "    # DataLoader shuffle=False\n",
    "    dataloader_test = DataLoader(transformed_test, batch_size, shuffle=False, num_workers=num_workers)\n",
    "\n",
    "    return dataloader_test\n"
   ]
  },
  {
   "cell_type": "markdown",
   "metadata": {
    "colab_type": "text",
    "id": "jppmamfZ3ekY"
   },
   "source": [
    " create our training/validation DataLoaders"
   ]
  },
  {
   "cell_type": "code",
   "execution_count": 0,
   "metadata": {
    "colab": {},
    "colab_type": "code",
    "id": "62-b43VP5noo"
   },
   "outputs": [],
   "source": [
    "#/content/given_data/train.csv"
   ]
  },
  {
   "cell_type": "code",
   "execution_count": 18,
   "metadata": {
    "colab": {},
    "colab_type": "code",
    "id": "7wb8nNZA1jmI"
   },
   "outputs": [],
   "source": [
    "# Set batch_size to 64, shuffling the training set and use 2 workers to do parallel reading.\n",
    "train_loader = getTrainingData(csv_file='./given_data/train.csv', batch_size=64, num_workers=0)\n",
    "\n",
    "# batch_size = 64\n",
    "valid_loader = getEvalData(csv_file='./given_data/val.csv', batch_size=64, num_workers=0)\n",
    "\n"
   ]
  },
  {
   "cell_type": "markdown",
   "metadata": {
    "colab_type": "text",
    "id": "GsoHYNVc52uw"
   },
   "source": [
    "Build a CNN"
   ]
  },
  {
   "cell_type": "code",
   "execution_count": 19,
   "metadata": {
    "colab": {},
    "colab_type": "code",
    "id": "H4htMymm54wm"
   },
   "outputs": [],
   "source": [
    "class Network(nn.Module):\n",
    "    def __init__(self, num_classes):\n",
    "        super().__init__() \n",
    "\n",
    "        # define layers \n",
    "        self.conv1 = nn.Conv2d(in_channels=1, out_channels=6, kernel_size=3, padding=1)\n",
    "        self.bn1 = nn.BatchNorm2d(6)\n",
    "        self.relu1 = nn.ReLU()\n",
    "        self.max_pool1 = nn.MaxPool2d(kernel_size=2, stride=2)\n",
    "        # TODO: fill the rest part (0.5 points)  \n",
    "        self.conv2 = nn.Conv2d(in_channels=6, out_channels=12, kernel_size=3,padding=1)\n",
    "        self.bn2=nn.BatchNorm2d(12)\n",
    "        self.fc1 = nn.Linear(in_features=768, out_features=350)\n",
    "        self.fc2 = nn.Linear(in_features=350, out_features=120)\n",
    "        self.fc3 = nn.Linear(in_features=120, out_features=60)\n",
    "        self.out = nn.Linear(in_features=60, out_features=10)    \n",
    "\n",
    "    def forward(self, x):\n",
    "        x = self.conv1(x)\n",
    "        x = self.bn1(x)\n",
    "        x = self.relu1(x)     \n",
    "        x = self.max_pool1(x) \n",
    "        # TODO: fill the rest part, you may need more lines like x = ... (0.5 points)\n",
    "        x = self.conv2(x)\n",
    "        x = self.bn2(x)\n",
    "        x = self.relu1(x)\n",
    "        x = self.max_pool1(x)\n",
    "        x = x.reshape(x.shape[0], -1)\n",
    "        #print(\"the shape here is,\",x.shape[0]) \n",
    "        x = self.fc1(x)\n",
    "        x= self.relu1(x)\n",
    "        x = self.fc2(x)\n",
    "        x= self.relu1(x)\n",
    "        x =self.fc3(x)\n",
    "        x= self.relu1(x)\n",
    "        x = self.out(x)\n",
    "        return x\n",
    "    "
   ]
  },
  {
   "cell_type": "markdown",
   "metadata": {
    "colab_type": "text",
    "id": "vuMMuLruEv6q"
   },
   "source": [
    "ResNet18"
   ]
  },
  {
   "cell_type": "code",
   "execution_count": 20,
   "metadata": {
    "colab": {},
    "colab_type": "code",
    "id": "tacWcHf3EwnR"
   },
   "outputs": [],
   "source": [
    "class ResNet18_Fashion_MNIST(torchvision.models.ResNet):\n",
    "    def __init__(self, num_classes=10):\n",
    "        super(ResNet18_Fashion_MNIST, self).__init__(BasicBlock, [2, 2, 2, 2], num_classes=num_classes)\n",
    "        # Override the \"conv1\" layer from the resnet-18 model\n",
    "        self.conv1 = nn.Conv2d(1, 64, kernel_size=7, stride=2, padding=3, bias=False)\n",
    "    def forward(self, x):\n",
    "        return super(ResNet18_Fashion_MNIST, self).forward(x)"
   ]
  },
  {
   "cell_type": "markdown",
   "metadata": {
    "colab_type": "text",
    "id": "PtM8NYR86BJw"
   },
   "source": [
    "Train and validate  "
   ]
  },
  {
   "cell_type": "code",
   "execution_count": 21,
   "metadata": {
    "colab": {
     "base_uri": "https://localhost:8080/",
     "height": 1000
    },
    "colab_type": "code",
    "id": "r3ZcYyaF6CPm",
    "outputId": "bf4235e6-2aa5-4f43-c60e-da18bf3865e8"
   },
   "outputs": [
    {
     "name": "stdout",
     "output_type": "stream",
     "text": [
      "ResNet18_Fashion_MNIST(\n",
      "  (conv1): Conv2d(1, 64, kernel_size=(7, 7), stride=(2, 2), padding=(3, 3), bias=False)\n",
      "  (bn1): BatchNorm2d(64, eps=1e-05, momentum=0.1, affine=True, track_running_stats=True)\n",
      "  (relu): ReLU(inplace=True)\n",
      "  (maxpool): MaxPool2d(kernel_size=3, stride=2, padding=1, dilation=1, ceil_mode=False)\n",
      "  (layer1): Sequential(\n",
      "    (0): BasicBlock(\n",
      "      (conv1): Conv2d(64, 64, kernel_size=(3, 3), stride=(1, 1), padding=(1, 1), bias=False)\n",
      "      (bn1): BatchNorm2d(64, eps=1e-05, momentum=0.1, affine=True, track_running_stats=True)\n",
      "      (relu): ReLU(inplace=True)\n",
      "      (conv2): Conv2d(64, 64, kernel_size=(3, 3), stride=(1, 1), padding=(1, 1), bias=False)\n",
      "      (bn2): BatchNorm2d(64, eps=1e-05, momentum=0.1, affine=True, track_running_stats=True)\n",
      "    )\n",
      "    (1): BasicBlock(\n",
      "      (conv1): Conv2d(64, 64, kernel_size=(3, 3), stride=(1, 1), padding=(1, 1), bias=False)\n",
      "      (bn1): BatchNorm2d(64, eps=1e-05, momentum=0.1, affine=True, track_running_stats=True)\n",
      "      (relu): ReLU(inplace=True)\n",
      "      (conv2): Conv2d(64, 64, kernel_size=(3, 3), stride=(1, 1), padding=(1, 1), bias=False)\n",
      "      (bn2): BatchNorm2d(64, eps=1e-05, momentum=0.1, affine=True, track_running_stats=True)\n",
      "    )\n",
      "  )\n",
      "  (layer2): Sequential(\n",
      "    (0): BasicBlock(\n",
      "      (conv1): Conv2d(64, 128, kernel_size=(3, 3), stride=(2, 2), padding=(1, 1), bias=False)\n",
      "      (bn1): BatchNorm2d(128, eps=1e-05, momentum=0.1, affine=True, track_running_stats=True)\n",
      "      (relu): ReLU(inplace=True)\n",
      "      (conv2): Conv2d(128, 128, kernel_size=(3, 3), stride=(1, 1), padding=(1, 1), bias=False)\n",
      "      (bn2): BatchNorm2d(128, eps=1e-05, momentum=0.1, affine=True, track_running_stats=True)\n",
      "      (downsample): Sequential(\n",
      "        (0): Conv2d(64, 128, kernel_size=(1, 1), stride=(2, 2), bias=False)\n",
      "        (1): BatchNorm2d(128, eps=1e-05, momentum=0.1, affine=True, track_running_stats=True)\n",
      "      )\n",
      "    )\n",
      "    (1): BasicBlock(\n",
      "      (conv1): Conv2d(128, 128, kernel_size=(3, 3), stride=(1, 1), padding=(1, 1), bias=False)\n",
      "      (bn1): BatchNorm2d(128, eps=1e-05, momentum=0.1, affine=True, track_running_stats=True)\n",
      "      (relu): ReLU(inplace=True)\n",
      "      (conv2): Conv2d(128, 128, kernel_size=(3, 3), stride=(1, 1), padding=(1, 1), bias=False)\n",
      "      (bn2): BatchNorm2d(128, eps=1e-05, momentum=0.1, affine=True, track_running_stats=True)\n",
      "    )\n",
      "  )\n",
      "  (layer3): Sequential(\n",
      "    (0): BasicBlock(\n",
      "      (conv1): Conv2d(128, 256, kernel_size=(3, 3), stride=(2, 2), padding=(1, 1), bias=False)\n",
      "      (bn1): BatchNorm2d(256, eps=1e-05, momentum=0.1, affine=True, track_running_stats=True)\n",
      "      (relu): ReLU(inplace=True)\n",
      "      (conv2): Conv2d(256, 256, kernel_size=(3, 3), stride=(1, 1), padding=(1, 1), bias=False)\n",
      "      (bn2): BatchNorm2d(256, eps=1e-05, momentum=0.1, affine=True, track_running_stats=True)\n",
      "      (downsample): Sequential(\n",
      "        (0): Conv2d(128, 256, kernel_size=(1, 1), stride=(2, 2), bias=False)\n",
      "        (1): BatchNorm2d(256, eps=1e-05, momentum=0.1, affine=True, track_running_stats=True)\n",
      "      )\n",
      "    )\n",
      "    (1): BasicBlock(\n",
      "      (conv1): Conv2d(256, 256, kernel_size=(3, 3), stride=(1, 1), padding=(1, 1), bias=False)\n",
      "      (bn1): BatchNorm2d(256, eps=1e-05, momentum=0.1, affine=True, track_running_stats=True)\n",
      "      (relu): ReLU(inplace=True)\n",
      "      (conv2): Conv2d(256, 256, kernel_size=(3, 3), stride=(1, 1), padding=(1, 1), bias=False)\n",
      "      (bn2): BatchNorm2d(256, eps=1e-05, momentum=0.1, affine=True, track_running_stats=True)\n",
      "    )\n",
      "  )\n",
      "  (layer4): Sequential(\n",
      "    (0): BasicBlock(\n",
      "      (conv1): Conv2d(256, 512, kernel_size=(3, 3), stride=(2, 2), padding=(1, 1), bias=False)\n",
      "      (bn1): BatchNorm2d(512, eps=1e-05, momentum=0.1, affine=True, track_running_stats=True)\n",
      "      (relu): ReLU(inplace=True)\n",
      "      (conv2): Conv2d(512, 512, kernel_size=(3, 3), stride=(1, 1), padding=(1, 1), bias=False)\n",
      "      (bn2): BatchNorm2d(512, eps=1e-05, momentum=0.1, affine=True, track_running_stats=True)\n",
      "      (downsample): Sequential(\n",
      "        (0): Conv2d(256, 512, kernel_size=(1, 1), stride=(2, 2), bias=False)\n",
      "        (1): BatchNorm2d(512, eps=1e-05, momentum=0.1, affine=True, track_running_stats=True)\n",
      "      )\n",
      "    )\n",
      "    (1): BasicBlock(\n",
      "      (conv1): Conv2d(512, 512, kernel_size=(3, 3), stride=(1, 1), padding=(1, 1), bias=False)\n",
      "      (bn1): BatchNorm2d(512, eps=1e-05, momentum=0.1, affine=True, track_running_stats=True)\n",
      "      (relu): ReLU(inplace=True)\n",
      "      (conv2): Conv2d(512, 512, kernel_size=(3, 3), stride=(1, 1), padding=(1, 1), bias=False)\n",
      "      (bn2): BatchNorm2d(512, eps=1e-05, momentum=0.1, affine=True, track_running_stats=True)\n",
      "    )\n",
      "  )\n",
      "  (avgpool): AdaptiveAvgPool2d(output_size=(1, 1))\n",
      "  (fc): Linear(in_features=512, out_features=10, bias=True)\n",
      ")\n"
     ]
    },
    {
     "data": {
      "image/png": "[encoded data removed]",
      "text/plain": [
       "<Figure size 432x288 with 1 Axes>"
      ]
     },
     "metadata": {
      "needs_background": "light"
     },
     "output_type": "display_data"
    }
   ],
   "source": [
    "\n",
    "# tensorboard --logdir tb_graphs/ --port 5656\n",
    "writer = SummaryWriter('tb_graphs/training')\n",
    "val_writer = SummaryWriter('tb_graphs/validation')\n",
    "\n",
    "# Switch between models\n",
    "\n",
    "#net = Network(num_classes=10)\n",
    "net = ResNet18_Fashion_MNIST(num_classes=10)\n",
    "\n",
    "    \n",
    "# Print out the layers of our model\n",
    "print(net)\n",
    "\n",
    "# Get some random training images\n",
    "_iter = iter(train_loader)\n",
    "samples = _iter.next()\n",
    "images = samples['image']\n",
    "\n",
    "# Create grid of images\n",
    "img_grid = torchvision.utils.make_grid(images)\n",
    "\n",
    "# Show images\n",
    "plt.imshow(img_grid.mean(dim=0).cpu().numpy(), cmap=\"Greys\")\n",
    "\n",
    "# Write to tensorboard\n",
    "writer.add_image('train_images', img_grid)\n",
    "\n",
    "# Write model graph to tensorboard\n",
    "writer.add_graph(net, images)"
   ]
  },
  {
   "cell_type": "markdown",
   "metadata": {
    "colab_type": "text",
    "id": "WHePQ7QQ7wwA"
   },
   "source": [
    "Training and tensorbord"
   ]
  },
  {
   "cell_type": "code",
   "execution_count": 25,
   "metadata": {
    "colab": {},
    "colab_type": "code",
    "id": "RHxEW0IB7wDj"
   },
   "outputs": [],
   "source": [
    "def eval(net, loss_function, data_loader):\n",
    "    net.cuda()\n",
    "    net.eval()\n",
    "    correct = 0.0\n",
    "    num_images = 0.0\n",
    "    running_loss = 0.0\n",
    "    for i, sample in enumerate(data_loader):\n",
    "        # TODO: fill these blanks\n",
    "        images, labels = sample['image'], sample['label']\n",
    "        images = images.cuda()\n",
    "        labels = labels.cuda()\n",
    "        outs =  net(images)\n",
    "        _, preds = outs.max(1)\n",
    "        correct += preds.eq(labels).sum()\n",
    "        running_loss += loss_function(outs, labels).item()\n",
    "        num_images += len(labels)\n",
    "\n",
    "    acc = correct.float() / num_images\n",
    "    loss = running_loss / len(data_loader)\n",
    "    return acc, loss\n",
    "\n",
    "# training function\n",
    "def train(net, train_loader, valid_loader, writer, val_writer, loss_function):\n",
    "    # TODO: build your SGD optimizer with learning rate=0.01, momentum=0.9, no weight decay\n",
    "    #optimizer = optim.SGD(net.parameters(),lr=0.01,momentum=0.9,weight_decay=0) \n",
    "    optimizer=optim.Adam(net.parameters(), lr=0.001, betas=(0.9, 0.999), eps=1e-08, weight_decay=0, amsgrad=False)\n",
    "    # Log training process to tensorboard every 100 iterations\n",
    "    log_every = 100\n",
    "    # Training for 20 epochs (you can modify this)\n",
    "    epoches = 20\n",
    "    for epoch in range(epoches):\n",
    "        start_t = time.time()\n",
    "        net.cuda()\n",
    "        net.train() \n",
    "        running_loss = 0.0\n",
    "        running_acc = 0.0\n",
    "        for i, sample in enumerate(train_loader):\n",
    "            # TODO: fill these blanks \n",
    "            images, labels = sample['image'], sample['label']  \n",
    "            images = images.cuda()\n",
    "            labels = labels.cuda()         \n",
    "            outs = net(images)\n",
    "            loss = loss_function(outs, labels) \n",
    "            _, preds = outs.max(1)\n",
    "            correct = preds.eq(labels).sum()\n",
    "            running_acc += correct.float() / len(labels)\n",
    "            # TODO: clear grads, back-propagation, backward propogation, update parameters\n",
    "            #clearing the grad \n",
    "            optimizer.zero_grad()  \n",
    "            #backward propagation\n",
    "            loss.backward() \n",
    "            #update parameters\n",
    "            optimizer.step()\n",
    "                        \n",
    "            running_loss += loss.item()\n",
    "            \n",
    "            \n",
    "            if i % log_every == 99: \n",
    "                \n",
    "                print('[Epoch/iter]: [{}/{}], loss: {:.05f}, accuracy: {:.05f}'.format(epoch, i+1, \n",
    "                           running_loss / log_every, running_acc / log_every))\n",
    "\n",
    "                log_index = epoch * len(train_loader) + i\n",
    "                # Log the training loss and accuracy\n",
    "                # Example of using .add_scalar()\n",
    "                # Note tag='Loss'\n",
    "                writer.add_scalar('Loss', running_loss / log_every, log_index) # tag='Loss'\n",
    "                # TODO: load the training accuracy using writer (0.5 points)\n",
    "                # Note tag='Accuracy'\n",
    "                writer.add_scalar('Accuracy',running_acc / log_every, log_index)\n",
    "                \n",
    "\n",
    "                # Log predictions\n",
    "                # Example of using .add_figure()\n",
    "                writer.add_figure('predictions', get_preds_figure(net, images, labels), log_index)\n",
    "                running_loss = 0.0\n",
    "                running_acc = 0.0\n",
    "\n",
    "        \n",
    "        # Running the validation\n",
    "        acc_eval, loss_eval = eval(net, loss_function, valid_loader)\n",
    "        print('Elapsed time: {:.02f} seconds, end of epoch: {}, lr: {}, val_loss: {:.05f}, val_acc: {:.05f}'.format(\n",
    "            time.time()-start_t, epoch, optimizer.param_groups[0]['lr'], loss_eval, acc_eval))\n",
    "        # Log the validation loss and accuracy\n",
    "        # Using val_writer will log the values to the validation writer\n",
    "        # Note tag='Loss'\n",
    "        val_writer.add_scalar('Loss',loss_eval/ log_every, log_index)\n",
    "        # Note tag='Accuracy'\n",
    "        val_writer.add_scalar('Accuracy',acc_eval/ log_every, log_index)\n",
    "\n",
    "    return net"
   ]
  },
  {
   "cell_type": "code",
   "execution_count": 0,
   "metadata": {
    "colab": {
     "base_uri": "https://localhost:8080/",
     "height": 1000
    },
    "colab_type": "code",
    "id": "DYbzWLJE75rA",
    "outputId": "3a11658e-b716-4be7-9512-fa610e3ae1fd"
   },
   "outputs": [
    {
     "name": "stdout",
     "output_type": "stream",
     "text": [
      "Please wait patiently, it may take some seconds...\n",
      "[Epoch/iter]: [0/100], loss: 1.90407, accuracy: 0.29469\n",
      "[Epoch/iter]: [0/200], loss: 1.56884, accuracy: 0.42531\n",
      "[Epoch/iter]: [0/300], loss: 1.46346, accuracy: 0.47125\n",
      "[Epoch/iter]: [0/400], loss: 1.41369, accuracy: 0.49078\n",
      "[Epoch/iter]: [0/500], loss: 1.37743, accuracy: 0.50063\n",
      "Elapsed time: 40.12 seconds, end of epoch: 0, lr: 0.001, val_loss: 1.29625, val_acc: 0.54011\n",
      "[Epoch/iter]: [1/100], loss: 1.25560, accuracy: 0.54469\n",
      "[Epoch/iter]: [1/200], loss: 1.23918, accuracy: 0.55406\n",
      "[Epoch/iter]: [1/300], loss: 1.23621, accuracy: 0.55750\n",
      "[Epoch/iter]: [1/400], loss: 1.18876, accuracy: 0.57219\n",
      "[Epoch/iter]: [1/500], loss: 1.18055, accuracy: 0.58281\n",
      "Elapsed time: 40.69 seconds, end of epoch: 1, lr: 0.001, val_loss: 1.19321, val_acc: 0.57133\n",
      "[Epoch/iter]: [2/100], loss: 1.10387, accuracy: 0.61547\n",
      "[Epoch/iter]: [2/200], loss: 1.08718, accuracy: 0.60828\n",
      "[Epoch/iter]: [2/300], loss: 1.09282, accuracy: 0.61328\n",
      "[Epoch/iter]: [2/400], loss: 1.08842, accuracy: 0.61422\n",
      "[Epoch/iter]: [2/500], loss: 1.08708, accuracy: 0.62031\n",
      "Elapsed time: 41.07 seconds, end of epoch: 2, lr: 0.001, val_loss: 1.06895, val_acc: 0.62278\n",
      "[Epoch/iter]: [3/100], loss: 0.97758, accuracy: 0.65484\n",
      "[Epoch/iter]: [3/200], loss: 1.01281, accuracy: 0.63422\n",
      "[Epoch/iter]: [3/300], loss: 1.00205, accuracy: 0.64156\n",
      "[Epoch/iter]: [3/400], loss: 1.03454, accuracy: 0.63797\n",
      "[Epoch/iter]: [3/500], loss: 0.98969, accuracy: 0.65188\n",
      "Elapsed time: 40.80 seconds, end of epoch: 3, lr: 0.001, val_loss: 1.06264, val_acc: 0.62667\n",
      "[Epoch/iter]: [4/100], loss: 0.94604, accuracy: 0.66438\n",
      "[Epoch/iter]: [4/200], loss: 0.93723, accuracy: 0.67000\n",
      "[Epoch/iter]: [4/300], loss: 0.94339, accuracy: 0.66922\n",
      "[Epoch/iter]: [4/400], loss: 0.93269, accuracy: 0.66891\n",
      "[Epoch/iter]: [4/500], loss: 0.92728, accuracy: 0.67078\n",
      "Elapsed time: 40.70 seconds, end of epoch: 4, lr: 0.001, val_loss: 0.96683, val_acc: 0.66233\n",
      "[Epoch/iter]: [5/100], loss: 0.88116, accuracy: 0.68594\n",
      "[Epoch/iter]: [5/200], loss: 0.87224, accuracy: 0.69031\n",
      "[Epoch/iter]: [5/300], loss: 0.89388, accuracy: 0.68141\n",
      "[Epoch/iter]: [5/400], loss: 0.86809, accuracy: 0.68906\n",
      "[Epoch/iter]: [5/500], loss: 0.88101, accuracy: 0.68969\n",
      "Elapsed time: 40.42 seconds, end of epoch: 5, lr: 0.001, val_loss: 0.97346, val_acc: 0.65356\n",
      "[Epoch/iter]: [6/100], loss: 0.82475, accuracy: 0.70656\n",
      "[Epoch/iter]: [6/200], loss: 0.80710, accuracy: 0.71719\n",
      "[Epoch/iter]: [6/300], loss: 0.83016, accuracy: 0.70891\n",
      "[Epoch/iter]: [6/400], loss: 0.82805, accuracy: 0.70219\n",
      "[Epoch/iter]: [6/500], loss: 0.82554, accuracy: 0.71266\n",
      "Elapsed time: 40.49 seconds, end of epoch: 6, lr: 0.001, val_loss: 0.95714, val_acc: 0.66967\n",
      "[Epoch/iter]: [7/100], loss: 0.76232, accuracy: 0.73234\n",
      "[Epoch/iter]: [7/200], loss: 0.78762, accuracy: 0.72344\n",
      "[Epoch/iter]: [7/300], loss: 0.76992, accuracy: 0.72594\n",
      "[Epoch/iter]: [7/400], loss: 0.78448, accuracy: 0.72297\n",
      "[Epoch/iter]: [7/500], loss: 0.79785, accuracy: 0.71750\n",
      "Elapsed time: 41.06 seconds, end of epoch: 7, lr: 0.001, val_loss: 0.94931, val_acc: 0.67044\n",
      "[Epoch/iter]: [8/100], loss: 0.72303, accuracy: 0.74297\n",
      "[Epoch/iter]: [8/200], loss: 0.70984, accuracy: 0.74875\n",
      "[Epoch/iter]: [8/300], loss: 0.74212, accuracy: 0.74078\n",
      "[Epoch/iter]: [8/400], loss: 0.74361, accuracy: 0.73859\n",
      "[Epoch/iter]: [8/500], loss: 0.76905, accuracy: 0.72531\n",
      "Elapsed time: 40.53 seconds, end of epoch: 8, lr: 0.001, val_loss: 0.93301, val_acc: 0.68389\n",
      "[Epoch/iter]: [9/100], loss: 0.67441, accuracy: 0.76578\n",
      "[Epoch/iter]: [9/200], loss: 0.67894, accuracy: 0.75703\n",
      "[Epoch/iter]: [9/300], loss: 0.70601, accuracy: 0.75531\n",
      "[Epoch/iter]: [9/400], loss: 0.70282, accuracy: 0.74953\n",
      "[Epoch/iter]: [9/500], loss: 0.74646, accuracy: 0.73625\n",
      "Elapsed time: 40.72 seconds, end of epoch: 9, lr: 0.001, val_loss: 0.95308, val_acc: 0.68444\n",
      "[Epoch/iter]: [10/100], loss: 0.64133, accuracy: 0.77750\n",
      "[Epoch/iter]: [10/200], loss: 0.68105, accuracy: 0.75656\n",
      "[Epoch/iter]: [10/300], loss: 0.65467, accuracy: 0.76688\n",
      "[Epoch/iter]: [10/400], loss: 0.66542, accuracy: 0.76766\n",
      "[Epoch/iter]: [10/500], loss: 0.68869, accuracy: 0.76281\n",
      "Elapsed time: 41.38 seconds, end of epoch: 10, lr: 0.001, val_loss: 0.95060, val_acc: 0.68389\n",
      "[Epoch/iter]: [11/100], loss: 0.62213, accuracy: 0.77703\n",
      "[Epoch/iter]: [11/200], loss: 0.63056, accuracy: 0.77812\n",
      "[Epoch/iter]: [11/300], loss: 0.64374, accuracy: 0.77359\n",
      "[Epoch/iter]: [11/400], loss: 0.60583, accuracy: 0.78938\n",
      "[Epoch/iter]: [11/500], loss: 0.65358, accuracy: 0.77406\n",
      "Elapsed time: 40.70 seconds, end of epoch: 11, lr: 0.001, val_loss: 0.94003, val_acc: 0.68989\n",
      "[Epoch/iter]: [12/100], loss: 0.58312, accuracy: 0.79578\n",
      "[Epoch/iter]: [12/200], loss: 0.58558, accuracy: 0.79219\n",
      "[Epoch/iter]: [12/300], loss: 0.58463, accuracy: 0.79266\n",
      "[Epoch/iter]: [12/400], loss: 0.60316, accuracy: 0.78562\n",
      "[Epoch/iter]: [12/500], loss: 0.61540, accuracy: 0.78328\n",
      "Elapsed time: 40.77 seconds, end of epoch: 12, lr: 0.001, val_loss: 0.97915, val_acc: 0.68122\n",
      "[Epoch/iter]: [13/100], loss: 0.55501, accuracy: 0.80594\n",
      "[Epoch/iter]: [13/200], loss: 0.54171, accuracy: 0.81063\n",
      "[Epoch/iter]: [13/300], loss: 0.56441, accuracy: 0.80391\n",
      "[Epoch/iter]: [13/400], loss: 0.59904, accuracy: 0.78984\n",
      "[Epoch/iter]: [13/500], loss: 0.58571, accuracy: 0.79344\n",
      "Elapsed time: 40.31 seconds, end of epoch: 13, lr: 0.001, val_loss: 0.96837, val_acc: 0.68967\n",
      "[Epoch/iter]: [14/100], loss: 0.52134, accuracy: 0.81375\n",
      "[Epoch/iter]: [14/200], loss: 0.50292, accuracy: 0.82187\n",
      "[Epoch/iter]: [14/300], loss: 0.54655, accuracy: 0.81172\n",
      "[Epoch/iter]: [14/400], loss: 0.56072, accuracy: 0.80531\n",
      "[Epoch/iter]: [14/500], loss: 0.55360, accuracy: 0.80594\n",
      "Elapsed time: 41.29 seconds, end of epoch: 14, lr: 0.001, val_loss: 0.95386, val_acc: 0.70044\n",
      "[Epoch/iter]: [15/100], loss: 0.48269, accuracy: 0.83719\n",
      "[Epoch/iter]: [15/200], loss: 0.48874, accuracy: 0.83297\n",
      "[Epoch/iter]: [15/300], loss: 0.51998, accuracy: 0.81656\n",
      "[Epoch/iter]: [15/400], loss: 0.51160, accuracy: 0.82234\n",
      "[Epoch/iter]: [15/500], loss: 0.50875, accuracy: 0.82391\n",
      "Elapsed time: 40.57 seconds, end of epoch: 15, lr: 0.001, val_loss: 1.00634, val_acc: 0.69211\n",
      "[Epoch/iter]: [16/100], loss: 0.45100, accuracy: 0.84422\n",
      "[Epoch/iter]: [16/200], loss: 0.46258, accuracy: 0.83859\n",
      "[Epoch/iter]: [16/300], loss: 0.47418, accuracy: 0.83672\n",
      "[Epoch/iter]: [16/400], loss: 0.49418, accuracy: 0.82516\n",
      "[Epoch/iter]: [16/500], loss: 0.48987, accuracy: 0.82547\n",
      "Elapsed time: 40.42 seconds, end of epoch: 16, lr: 0.001, val_loss: 1.05167, val_acc: 0.69078\n",
      "[Epoch/iter]: [17/100], loss: 0.41511, accuracy: 0.85719\n",
      "[Epoch/iter]: [17/200], loss: 0.44096, accuracy: 0.84438\n",
      "[Epoch/iter]: [17/300], loss: 0.46806, accuracy: 0.83688\n",
      "[Epoch/iter]: [17/400], loss: 0.44717, accuracy: 0.84734\n",
      "[Epoch/iter]: [17/500], loss: 0.48800, accuracy: 0.83156\n",
      "Elapsed time: 40.63 seconds, end of epoch: 17, lr: 0.001, val_loss: 1.03598, val_acc: 0.68878\n",
      "[Epoch/iter]: [18/100], loss: 0.40961, accuracy: 0.85844\n",
      "[Epoch/iter]: [18/200], loss: 0.41572, accuracy: 0.85359\n",
      "[Epoch/iter]: [18/300], loss: 0.42915, accuracy: 0.85484\n",
      "[Epoch/iter]: [18/400], loss: 0.45234, accuracy: 0.84344\n",
      "[Epoch/iter]: [18/500], loss: 0.45139, accuracy: 0.83969\n",
      "Elapsed time: 40.73 seconds, end of epoch: 18, lr: 0.001, val_loss: 1.05396, val_acc: 0.69178\n",
      "[Epoch/iter]: [19/100], loss: 0.35741, accuracy: 0.87672\n",
      "[Epoch/iter]: [19/200], loss: 0.40495, accuracy: 0.85797\n",
      "[Epoch/iter]: [19/300], loss: 0.39199, accuracy: 0.86328\n",
      "[Epoch/iter]: [19/400], loss: 0.42351, accuracy: 0.84609\n",
      "[Epoch/iter]: [19/500], loss: 0.41421, accuracy: 0.85969\n",
      "Elapsed time: 40.88 seconds, end of epoch: 19, lr: 0.001, val_loss: 1.08718, val_acc: 0.68922\n"
     ]
    }
   ],
   "source": [
    "# here is the performance of the simple CNN model \n",
    "\n",
    "print('Please wait patiently, it may take some seconds...')\n",
    "loss_function = torch.nn.CrossEntropyLoss()\n",
    "mytrain=train(net, train_loader, valid_loader, writer, val_writer, loss_function)\n",
    "# Save the weight of current model to disk\n",
    "#PATH = './net.pth'\n",
    "#torch.save(net.state_dict(), PATH)\n",
    "# Load the model weights from './net.pth'\n",
    "#net.load_state_dict(torch.load('./net.pth'))\n",
    "# TODO: test your network here on testing data (0.5 points)\n",
    "#acc_test, lossy= eval(net, loss_function, test_loader)\n",
    "#print('Accuracy on testing data: {:.05f}'.format(acc_test))\n",
    "# Close the training and validation writer\n",
    "writer.close()\n",
    "val_writer.close()"
   ]
  },
  {
   "cell_type": "code",
   "execution_count": 0,
   "metadata": {
    "colab": {},
    "colab_type": "code",
    "id": "Dj_WozcOFEtg"
   },
   "outputs": [],
   "source": []
  },
  {
   "cell_type": "markdown",
   "metadata": {
    "colab_type": "text",
    "id": "jP_U_blEFFCg"
   },
   "source": [
    "training the resNet"
   ]
  },
  {
   "cell_type": "code",
   "execution_count": 0,
   "metadata": {
    "colab": {
     "base_uri": "https://localhost:8080/",
     "height": 1000
    },
    "colab_type": "code",
    "id": "nGnj3id-FFNY",
    "outputId": "2b17f52d-46c5-4cf8-f5b4-3062f79af2ec"
   },
   "outputs": [
    {
     "name": "stdout",
     "output_type": "stream",
     "text": [
      "Please wait patiently, it may take some hours...\n",
      "[Epoch/iter]: [0/100], loss: 1.75144, accuracy: 0.36031\n",
      "[Epoch/iter]: [0/200], loss: 1.47787, accuracy: 0.45812\n",
      "[Epoch/iter]: [0/300], loss: 1.30681, accuracy: 0.52094\n",
      "[Epoch/iter]: [0/400], loss: 1.23140, accuracy: 0.55875\n",
      "[Epoch/iter]: [0/500], loss: 1.11897, accuracy: 0.60750\n",
      "Elapsed time: 250.18 seconds, end of epoch: 0, lr: 0.001, val_loss: 1.10265, val_acc: 0.61278\n",
      "[Epoch/iter]: [1/100], loss: 0.98386, accuracy: 0.65297\n",
      "[Epoch/iter]: [1/200], loss: 0.93622, accuracy: 0.67281\n",
      "[Epoch/iter]: [1/300], loss: 0.91458, accuracy: 0.67391\n",
      "[Epoch/iter]: [1/400], loss: 0.86369, accuracy: 0.70031\n",
      "[Epoch/iter]: [1/500], loss: 0.81447, accuracy: 0.70953\n",
      "Elapsed time: 249.81 seconds, end of epoch: 1, lr: 0.001, val_loss: 0.89128, val_acc: 0.69167\n",
      "[Epoch/iter]: [2/100], loss: 0.73959, accuracy: 0.73828\n",
      "[Epoch/iter]: [2/200], loss: 0.72257, accuracy: 0.74844\n",
      "[Epoch/iter]: [2/300], loss: 0.71715, accuracy: 0.74891\n",
      "[Epoch/iter]: [2/400], loss: 0.69540, accuracy: 0.75406\n",
      "[Epoch/iter]: [2/500], loss: 0.65285, accuracy: 0.77047\n",
      "Elapsed time: 249.69 seconds, end of epoch: 2, lr: 0.001, val_loss: 0.86149, val_acc: 0.69311\n",
      "[Epoch/iter]: [3/100], loss: 0.56981, accuracy: 0.79844\n",
      "[Epoch/iter]: [3/200], loss: 0.61822, accuracy: 0.78187\n",
      "[Epoch/iter]: [3/300], loss: 0.61148, accuracy: 0.78875\n",
      "[Epoch/iter]: [3/400], loss: 0.58817, accuracy: 0.79203\n",
      "[Epoch/iter]: [3/500], loss: 0.59225, accuracy: 0.79312\n",
      "Elapsed time: 250.24 seconds, end of epoch: 3, lr: 0.001, val_loss: 0.64302, val_acc: 0.77778\n",
      "[Epoch/iter]: [4/100], loss: 0.50783, accuracy: 0.82047\n",
      "[Epoch/iter]: [4/200], loss: 0.49870, accuracy: 0.82609\n",
      "[Epoch/iter]: [4/300], loss: 0.52845, accuracy: 0.81781\n",
      "[Epoch/iter]: [4/400], loss: 0.53044, accuracy: 0.81516\n",
      "[Epoch/iter]: [4/500], loss: 0.51621, accuracy: 0.81531\n",
      "Elapsed time: 250.04 seconds, end of epoch: 4, lr: 0.001, val_loss: 0.66490, val_acc: 0.77300\n",
      "[Epoch/iter]: [5/100], loss: 0.44955, accuracy: 0.84203\n",
      "[Epoch/iter]: [5/200], loss: 0.43920, accuracy: 0.84656\n",
      "[Epoch/iter]: [5/300], loss: 0.43602, accuracy: 0.84938\n",
      "[Epoch/iter]: [5/400], loss: 0.43593, accuracy: 0.84516\n",
      "[Epoch/iter]: [5/500], loss: 0.45805, accuracy: 0.84016\n",
      "Elapsed time: 249.68 seconds, end of epoch: 5, lr: 0.001, val_loss: 0.59352, val_acc: 0.79944\n",
      "[Epoch/iter]: [6/100], loss: 0.36970, accuracy: 0.87469\n",
      "[Epoch/iter]: [6/200], loss: 0.36913, accuracy: 0.86859\n",
      "[Epoch/iter]: [6/300], loss: 0.37448, accuracy: 0.87344\n",
      "[Epoch/iter]: [6/400], loss: 0.40123, accuracy: 0.86234\n",
      "[Epoch/iter]: [6/500], loss: 0.41133, accuracy: 0.86203\n",
      "Elapsed time: 249.81 seconds, end of epoch: 6, lr: 0.001, val_loss: 0.77822, val_acc: 0.75689\n",
      "[Epoch/iter]: [7/100], loss: 0.29051, accuracy: 0.90047\n",
      "[Epoch/iter]: [7/200], loss: 0.33650, accuracy: 0.88141\n",
      "[Epoch/iter]: [7/300], loss: 0.34124, accuracy: 0.88328\n",
      "[Epoch/iter]: [7/400], loss: 0.33206, accuracy: 0.89172\n",
      "[Epoch/iter]: [7/500], loss: 0.35339, accuracy: 0.87750\n",
      "Elapsed time: 249.50 seconds, end of epoch: 7, lr: 0.001, val_loss: 0.57984, val_acc: 0.81256\n",
      "[Epoch/iter]: [8/100], loss: 0.24910, accuracy: 0.91438\n",
      "[Epoch/iter]: [8/200], loss: 0.25593, accuracy: 0.91203\n",
      "[Epoch/iter]: [8/300], loss: 0.25598, accuracy: 0.91328\n",
      "[Epoch/iter]: [8/400], loss: 0.27689, accuracy: 0.90141\n",
      "[Epoch/iter]: [8/500], loss: 0.31176, accuracy: 0.89125\n",
      "Elapsed time: 249.89 seconds, end of epoch: 8, lr: 0.001, val_loss: 0.56010, val_acc: 0.82167\n",
      "[Epoch/iter]: [9/100], loss: 0.22182, accuracy: 0.92359\n",
      "[Epoch/iter]: [9/200], loss: 0.22484, accuracy: 0.92172\n",
      "[Epoch/iter]: [9/300], loss: 0.25203, accuracy: 0.91094\n",
      "[Epoch/iter]: [9/400], loss: 0.24906, accuracy: 0.91141\n",
      "[Epoch/iter]: [9/500], loss: 0.25905, accuracy: 0.90562\n",
      "Elapsed time: 251.62 seconds, end of epoch: 9, lr: 0.001, val_loss: 0.58988, val_acc: 0.81389\n",
      "[Epoch/iter]: [10/100], loss: 0.17841, accuracy: 0.93766\n",
      "[Epoch/iter]: [10/200], loss: 0.17699, accuracy: 0.93859\n",
      "[Epoch/iter]: [10/300], loss: 0.17799, accuracy: 0.93609\n",
      "[Epoch/iter]: [10/400], loss: 0.20902, accuracy: 0.92906\n",
      "[Epoch/iter]: [10/500], loss: 0.20162, accuracy: 0.92687\n",
      "Elapsed time: 251.32 seconds, end of epoch: 10, lr: 0.001, val_loss: 0.67581, val_acc: 0.81000\n",
      "[Epoch/iter]: [11/100], loss: 0.13713, accuracy: 0.95359\n",
      "[Epoch/iter]: [11/200], loss: 0.14240, accuracy: 0.95156\n",
      "[Epoch/iter]: [11/300], loss: 0.15780, accuracy: 0.94453\n",
      "[Epoch/iter]: [11/400], loss: 0.19361, accuracy: 0.93141\n",
      "[Epoch/iter]: [11/500], loss: 0.18235, accuracy: 0.93719\n",
      "Elapsed time: 251.84 seconds, end of epoch: 11, lr: 0.001, val_loss: 0.56554, val_acc: 0.82878\n",
      "[Epoch/iter]: [12/100], loss: 0.13210, accuracy: 0.95125\n",
      "[Epoch/iter]: [12/200], loss: 0.11632, accuracy: 0.96047\n",
      "[Epoch/iter]: [12/300], loss: 0.11974, accuracy: 0.95906\n",
      "[Epoch/iter]: [12/400], loss: 0.14988, accuracy: 0.94578\n",
      "[Epoch/iter]: [12/500], loss: 0.14517, accuracy: 0.94625\n",
      "Elapsed time: 252.55 seconds, end of epoch: 12, lr: 0.001, val_loss: 0.64363, val_acc: 0.83244\n",
      "[Epoch/iter]: [13/100], loss: 0.10761, accuracy: 0.96453\n",
      "[Epoch/iter]: [13/200], loss: 0.09897, accuracy: 0.96672\n",
      "[Epoch/iter]: [13/300], loss: 0.11953, accuracy: 0.95625\n",
      "[Epoch/iter]: [13/400], loss: 0.12125, accuracy: 0.96062\n",
      "[Epoch/iter]: [13/500], loss: 0.14035, accuracy: 0.94984\n",
      "Elapsed time: 251.77 seconds, end of epoch: 13, lr: 0.001, val_loss: 0.57267, val_acc: 0.84733\n",
      "[Epoch/iter]: [14/100], loss: 0.08325, accuracy: 0.97016\n",
      "[Epoch/iter]: [14/200], loss: 0.10767, accuracy: 0.96141\n",
      "[Epoch/iter]: [14/300], loss: 0.10515, accuracy: 0.96312\n",
      "[Epoch/iter]: [14/400], loss: 0.11981, accuracy: 0.95562\n",
      "[Epoch/iter]: [14/500], loss: 0.10150, accuracy: 0.96516\n",
      "Elapsed time: 251.56 seconds, end of epoch: 14, lr: 0.001, val_loss: 0.68769, val_acc: 0.82956\n",
      "[Epoch/iter]: [15/100], loss: 0.08135, accuracy: 0.97219\n",
      "[Epoch/iter]: [15/200], loss: 0.07607, accuracy: 0.97453\n",
      "[Epoch/iter]: [15/300], loss: 0.08232, accuracy: 0.97109\n",
      "[Epoch/iter]: [15/400], loss: 0.09742, accuracy: 0.96609\n",
      "[Epoch/iter]: [15/500], loss: 0.10912, accuracy: 0.96203\n",
      "Elapsed time: 251.67 seconds, end of epoch: 15, lr: 0.001, val_loss: 0.61792, val_acc: 0.83967\n",
      "[Epoch/iter]: [16/100], loss: 0.06363, accuracy: 0.97828\n",
      "[Epoch/iter]: [16/200], loss: 0.07330, accuracy: 0.97437\n",
      "[Epoch/iter]: [16/300], loss: 0.07992, accuracy: 0.97172\n",
      "[Epoch/iter]: [16/400], loss: 0.09748, accuracy: 0.96844\n",
      "[Epoch/iter]: [16/500], loss: 0.09663, accuracy: 0.96516\n",
      "Elapsed time: 251.03 seconds, end of epoch: 16, lr: 0.001, val_loss: 0.63503, val_acc: 0.84144\n",
      "[Epoch/iter]: [17/100], loss: 0.07641, accuracy: 0.97250\n",
      "[Epoch/iter]: [17/200], loss: 0.07319, accuracy: 0.97281\n",
      "[Epoch/iter]: [17/300], loss: 0.07373, accuracy: 0.97328\n",
      "[Epoch/iter]: [17/400], loss: 0.06816, accuracy: 0.97547\n",
      "[Epoch/iter]: [17/500], loss: 0.07789, accuracy: 0.97328\n",
      "Elapsed time: 252.00 seconds, end of epoch: 17, lr: 0.001, val_loss: 0.67706, val_acc: 0.83756\n",
      "[Epoch/iter]: [18/100], loss: 0.06226, accuracy: 0.98016\n",
      "[Epoch/iter]: [18/200], loss: 0.06585, accuracy: 0.97797\n",
      "[Epoch/iter]: [18/300], loss: 0.05829, accuracy: 0.97922\n",
      "[Epoch/iter]: [18/400], loss: 0.05954, accuracy: 0.97828\n",
      "[Epoch/iter]: [18/500], loss: 0.06724, accuracy: 0.97547\n",
      "Elapsed time: 250.83 seconds, end of epoch: 18, lr: 0.001, val_loss: 0.65924, val_acc: 0.84944\n",
      "[Epoch/iter]: [19/100], loss: 0.05623, accuracy: 0.98000\n",
      "[Epoch/iter]: [19/200], loss: 0.05733, accuracy: 0.98203\n",
      "[Epoch/iter]: [19/300], loss: 0.05807, accuracy: 0.98094\n",
      "[Epoch/iter]: [19/400], loss: 0.05706, accuracy: 0.97859\n",
      "[Epoch/iter]: [19/500], loss: 0.06094, accuracy: 0.97875\n",
      "Elapsed time: 250.89 seconds, end of epoch: 19, lr: 0.001, val_loss: 0.70386, val_acc: 0.84089\n"
     ]
    }
   ],
   "source": [
    "print('Please wait patiently, it may take some ...')\n",
    "loss_function = torch.nn.CrossEntropyLoss()\n",
    "mytrain=train(net, train_loader, valid_loader, writer, val_writer, loss_function)\n",
    "# Save the weight of current model to disk\n",
    "PATH = './net.pth'\n",
    "torch.save(net.state_dict(), PATH)\n",
    "# Load the model weights from './net.pth'\n",
    "net.load_state_dict(torch.load('./net.pth'))\n",
    "# TODO: test your network here on testing data (0.5 points)\n",
    "#acc_test, lossy= eval(net, loss_function, test_loader)\n",
    "#print('Accuracy on testing data: {:.05f}'.format(acc_test))\n",
    "# Close the training and validation writer\n",
    "writer.close()\n",
    "val_writer.close()"
   ]
  },
  {
   "cell_type": "code",
   "execution_count": null,
   "metadata": {},
   "outputs": [],
   "source": []
  },
  {
   "cell_type": "markdown",
   "metadata": {
    "colab_type": "text",
    "id": "zjcPDWO36dC0"
   },
   "source": [
    "\n",
    "\n",
    "```\n",
    "# Testing\n",
    "```\n",
    "\n"
   ]
  },
  {
   "cell_type": "code",
   "execution_count": 27,
   "metadata": {
    "colab": {},
    "colab_type": "code",
    "id": "i-a8A1ly6dVK",
    "outputId": "460141f5-8b98-4556-eaf4-22a975df6a9f"
   },
   "outputs": [
    {
     "data": {
      "text/plain": [
       "<All keys matched successfully>"
      ]
     },
     "execution_count": 27,
     "metadata": {},
     "output_type": "execute_result"
    }
   ],
   "source": [
    "net.load_state_dict(torch.load('./net.pth'))"
   ]
  },
  {
   "cell_type": "code",
   "execution_count": 31,
   "metadata": {},
   "outputs": [],
   "source": [
    "test_loader = getTestData(csv_file='./group_036_test.csv', batch_size=64, num_workers=0)"
   ]
  },
  {
   "cell_type": "code",
   "execution_count": 32,
   "metadata": {
    "colab": {},
    "colab_type": "code",
    "id": "YH7Wr35Q-YMU"
   },
   "outputs": [],
   "source": [
    "loss_function = torch.nn.CrossEntropyLoss()"
   ]
  },
  {
   "cell_type": "code",
   "execution_count": 33,
   "metadata": {
    "colab": {},
    "colab_type": "code",
    "id": "7jN0Byjc-326"
   },
   "outputs": [],
   "source": [
    "def test(dataloader, model, file):\n",
    "    preds = []\n",
    "    model.cuda()\n",
    "    model.eval()\n",
    "    for i, data in enumerate(dataloader):\n",
    "        images, labels = data['image'], data['label']  \n",
    "        images = images.cuda()  \n",
    "        output = model(images)\n",
    "        output = torch.argmax(output, dim=1)\n",
    "        for i in output:\n",
    "            preds.append(int(i.cpu()))\n",
    "    with open(file, 'w') as f:\n",
    "        for i in preds:\n",
    "            f.write(\"%s\\n\" % i)"
   ]
  },
  {
   "cell_type": "code",
   "execution_count": 35,
   "metadata": {
    "colab": {},
    "colab_type": "code",
    "id": "SD6p0uxqRPJL"
   },
   "outputs": [],
   "source": [
    "test(test_loader, net, 'predictions0.txt')"
   ]
  },
  {
   "cell_type": "code",
   "execution_count": 3,
   "metadata": {
    "colab": {
     "base_uri": "https://localhost:8080/",
     "height": 34
    },
    "colab_type": "code",
    "id": "65EY8RaSEc3t",
    "outputId": "952f9012-097e-45ad-e040-4ecaae524e1c"
   },
   "outputs": [
    {
     "data": {
      "text/plain": [
       "True"
      ]
     },
     "execution_count": 3,
     "metadata": {},
     "output_type": "execute_result"
    }
   ],
   "source": [
    "torch.cuda.is_available()"
   ]
  },
  {
   "cell_type": "code",
   "execution_count": null,
   "metadata": {},
   "outputs": [],
   "source": []
  }
 ],
 "metadata": {
  "accelerator": "GPU",
  "colab": {
   "collapsed_sections": [],
   "name": "Project_2600628_Nabil_ARHAB.ipynb",
   "provenance": [],
   "toc_visible": true
  },
  "kernelspec": {
   "display_name": "Python 3",
   "language": "python",
   "name": "python3"
  },
  "language_info": {
   "codemirror_mode": {
    "name": "ipython",
    "version": 3
   },
   "file_extension": ".py",
   "mimetype": "text/x-python",
   "name": "python",
   "nbconvert_exporter": "python",
   "pygments_lexer": "ipython3",
   "version": "3.6.10"
  }
 },
 "nbformat": 4,
 "nbformat_minor": 1
}
